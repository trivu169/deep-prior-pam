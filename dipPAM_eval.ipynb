{
 "cells": [
  {
   "cell_type": "markdown",
   "metadata": {},
   "source": [
    "# Deep Image Prior (DIP) for PAM - Batch Mode Only\n",
    "## Tri Vu - Updated 051620"
   ]
  },
  {
   "cell_type": "markdown",
   "metadata": {},
   "source": [
    "### Import libs and utils"
   ]
  },
  {
   "cell_type": "code",
   "execution_count": 1,
   "metadata": {},
   "outputs": [
    {
     "name": "stderr",
     "output_type": "stream",
     "text": [
      "Using TensorFlow backend.\n"
     ]
    }
   ],
   "source": [
    "import keras\n",
    "from keras import backend as K\n",
    "import tensorflow as tf\n",
    "from define_model import *\n",
    "from build_unet import *\n",
    "from utils import *\n",
    "from keras.optimizers import Adam\n",
    "import os\n",
    "from os.path import isfile, join\n",
    "from numba import cuda"
   ]
  },
  {
   "cell_type": "code",
   "execution_count": 2,
   "metadata": {},
   "outputs": [],
   "source": [
    "\"\"\" Choose which gpu to run the training \"\"\"\n",
    "gpu = 1  # 0 for first gpu, 1 for 2nd gpu\n",
    "if gpu == 0:\n",
    "    os.environ[\"CUDA_VISIBLE_DEVICES\"] = \"0\"\n",
    "elif gpu == 1:\n",
    "    os.environ[\"CUDA_VISIBLE_DEVICES\"] = \"1\""
   ]
  },
  {
   "cell_type": "markdown",
   "metadata": {},
   "source": [
    "### Step 1: Mode Selection"
   ]
  },
  {
   "cell_type": "code",
   "execution_count": 3,
   "metadata": {},
   "outputs": [],
   "source": [
    "BATCH_MODE = True  # Run DIP on a set of data for evaluation\n",
    "\n",
    "SAVE_MODEL = True  # Save trained model and input noise\n",
    "SAVE_LOSS = True\n",
    "SAVE_OUTPUT = True  # Save auxillary info (training time and noise reg) output image, \n",
    "                    # with corrected image in the 2nd channel"
   ]
  },
  {
   "cell_type": "markdown",
   "metadata": {},
   "source": [
    "### Step 2: Params Input and Pre-processing"
   ]
  },
  {
   "cell_type": "code",
   "execution_count": 8,
   "metadata": {},
   "outputs": [
    {
     "data": {
      "image/png": "[encoded data removed]",
      "text/plain": [
       "<Figure size 432x288 with 1 Axes>"
      ]
     },
     "metadata": {
      "needs_background": "light"
     },
     "output_type": "display_data"
    },
    {
     "data": {
      "text/plain": [
       "(array([4846, 4846], dtype=int64), array([0, 1], dtype=int64))"
      ]
     },
     "execution_count": 8,
     "metadata": {},
     "output_type": "execute_result"
    }
   ],
   "source": [
    "imgpath = './Data/10_5/output/'\n",
    "imgname = '20190423_thinnedskull_Epi 11_Image1_index0_pad_5-10'\n",
    "im = cv2.imread(imgpath + imgname + '_dip_out.png')\n",
    "l = np.loadtxt(imgpath + imgname + '_loss.txt')\n",
    "\n",
    "plt.plot(l)\n",
    "plt.yscale('log')\n",
    "plt.show()\n",
    "\n",
    "np.where(l==np.min(l))"
   ]
  }
 ],
 "metadata": {
  "kernelspec": {
   "display_name": "Python 3",
   "language": "python",
   "name": "python3"
  },
  "language_info": {
   "codemirror_mode": {
    "name": "ipython",
    "version": 3
   },
   "file_extension": ".py",
   "mimetype": "text/x-python",
   "name": "python",
   "nbconvert_exporter": "python",
   "pygments_lexer": "ipython3",
   "version": "3.6.1"
  }
 },
 "nbformat": 4,
 "nbformat_minor": 2
}
